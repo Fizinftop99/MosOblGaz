{
 "cells": [
  {
   "cell_type": "code",
   "execution_count": 2,
   "metadata": {
    "collapsed": true
   },
   "outputs": [],
   "source": [
    "import tkinter\n",
    "import tkintermapview"
   ]
  },
  {
   "cell_type": "code",
   "execution_count": 3,
   "outputs": [],
   "source": [
    "# create tkinter window\n",
    "root_tk = tkinter.Tk()\n",
    "root_tk.geometry(f\"{800}x{600}\")\n",
    "root_tk.title(\"map_view_example.py\")\n",
    "\n",
    "# create map widget\n",
    "map_widget = tkintermapview.TkinterMapView(root_tk, width=800, height=600, corner_radius=0)\n",
    "map_widget.place(relx=0.5, rely=0.5, anchor=tkinter.CENTER)"
   ],
   "metadata": {
    "collapsed": false
   }
  },
  {
   "cell_type": "code",
   "execution_count": 5,
   "outputs": [],
   "source": [
    "# set current widget position and zoom\n",
    "map_widget.set_position(55.9496, 37.5018)  # Dolgoprudny\n",
    "map_widget.set_zoom(15)"
   ],
   "metadata": {
    "collapsed": false
   }
  },
  {
   "cell_type": "code",
   "execution_count": null,
   "outputs": [],
   "source": [
    "def polygon_click(polygon):\n",
    "    print(f\"polygon clicked - text: {polygon.name}\")\n",
    "\n",
    "polygon_1 = map_widget.set_polygon([(46.0732306, 6.0095215),\n",
    "                                    ...\n",
    "                                    (46.3772542, 6.4160156)],\n",
    "                                   # fill_color=None,\n",
    "                                   # outline_color=\"red\",\n",
    "                                   # border_width=12,\n",
    "                                   command=polygon_click,\n",
    "                                   name=\"switzerland_polygon\")\n",
    "\n",
    "# methods\n",
    "polygon_1.remove_position(46.3772542, 6.4160156)\n",
    "polygon_1.add_position(0, 0, index=5)\n",
    "polygon_1.delete()"
   ],
   "metadata": {
    "collapsed": false
   }
  }
 ],
 "metadata": {
  "kernelspec": {
   "display_name": "Python 3",
   "language": "python",
   "name": "python3"
  },
  "language_info": {
   "codemirror_mode": {
    "name": "ipython",
    "version": 2
   },
   "file_extension": ".py",
   "mimetype": "text/x-python",
   "name": "python",
   "nbconvert_exporter": "python",
   "pygments_lexer": "ipython2",
   "version": "2.7.6"
  }
 },
 "nbformat": 4,
 "nbformat_minor": 0
}
